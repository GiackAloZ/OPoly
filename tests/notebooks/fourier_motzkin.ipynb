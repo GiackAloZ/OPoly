{
 "cells": [
  {
   "cell_type": "code",
   "execution_count": null,
   "id": "preliminary-blade",
   "metadata": {},
   "outputs": [],
   "source": [
    "import numpy as np\n",
    "import sympy as sp\n",
    "\n",
    "from sympy.solvers.inequalities import reduce_inequalities"
   ]
  },
  {
   "cell_type": "code",
   "execution_count": null,
   "id": "practical-politics",
   "metadata": {},
   "outputs": [],
   "source": [
    "def reduce_ineq(ineq: sp.core.relational._Inequality, var: sp.core.symbol.Symbol):\n",
    "    interval = reduce_inequalities(ineq, var)\n",
    "    args = interval.args if isinstance(interval, sp.And) else [interval]\n",
    "    for inter in args:\n",
    "        inter = inter.canonical\n",
    "        if not (inter.has(sp.oo) or inter.has(-sp.oo)):\n",
    "            return inter"
   ]
  },
  {
   "cell_type": "code",
   "execution_count": null,
   "id": "located-analyst",
   "metadata": {},
   "outputs": [],
   "source": [
    "def fourier_motzkin_eliminate_var(\n",
    "    inequalites: tuple[sp.core.relational._Inequality],\n",
    "    var: sp.core.symbol.Symbol,\n",
    "    all_vars: tuple[sp.core.symbol.Symbol]\n",
    ") -> tuple[sp.core.relational._Inequality]:\n",
    "    less_exprs = []\n",
    "    great_exprs = []\n",
    "    zero_ineqs = []\n",
    "    for ineq in inequalites:\n",
    "        if var in ineq.free_symbols:\n",
    "            ineq = reduce_ineq(ineq, var)\n",
    "            if isinstance(ineq, sp.core.relational.GreaterThan):\n",
    "                great_exprs.append(ineq.rhs)\n",
    "            else:\n",
    "                less_exprs.append(ineq.rhs)\n",
    "        else:\n",
    "            zero_ineqs.append(ineq)\n",
    "    new_ineqs = []\n",
    "    for ge in great_exprs:\n",
    "        for le in less_exprs:\n",
    "            new_in = ge <= le\n",
    "            diff = ge - le\n",
    "            if any(diff.has(v) for v in all_vars):\n",
    "                new_ineqs.append(ge <= le)\n",
    "    return tuple(zero_ineqs + new_ineqs)"
   ]
  },
  {
   "cell_type": "code",
   "execution_count": null,
   "id": "marked-compensation",
   "metadata": {},
   "outputs": [],
   "source": [
    "l, m, n = sp.symbols(\"l m n\", integers=True)\n",
    "i, j, k = sp.symbols(\"i j k\", integers=True)"
   ]
  },
  {
   "cell_type": "code",
   "execution_count": null,
   "id": "loved-radical",
   "metadata": {},
   "outputs": [],
   "source": [
    "ineqs = (\n",
    "    0 <= j,\n",
    "    j <= n-1,\n",
    "    1 <= i - 2*j - k,\n",
    "    i - 2*j - k <= m - 2,\n",
    "    1 <= k,\n",
    "    k <= l-2\n",
    ")"
   ]
  },
  {
   "cell_type": "code",
   "execution_count": null,
   "id": "backed-encounter",
   "metadata": {},
   "outputs": [],
   "source": [
    "fourier_motzkin_eliminate_var(ineqs, k, (i,j,k))"
   ]
  },
  {
   "cell_type": "code",
   "execution_count": null,
   "id": "atlantic-bottom",
   "metadata": {},
   "outputs": [],
   "source": [
    "def simplify_bounds(ineqs, var):\n",
    "    lower_bounds = []\n",
    "    upper_bounds = []\n",
    "    for ineq in ineqs:\n",
    "        if var in ineq.free_symbols:\n",
    "            ineq = reduce_ineq(ineq, var)\n",
    "            if ineq.has(var):\n",
    "                bound = sp.together(ineq.rhs)\n",
    "                if isinstance(ineq, sp.core.relational.GreaterThan):\n",
    "                    lower_bounds.append(bound)\n",
    "                else:\n",
    "                    upper_bounds.append(bound)\n",
    "    return (lower_bounds, upper_bounds)"
   ]
  },
  {
   "cell_type": "code",
   "execution_count": null,
   "id": "african-drive",
   "metadata": {},
   "outputs": [],
   "source": [
    "simplify_bounds(ineqs, k)"
   ]
  },
  {
   "cell_type": "code",
   "execution_count": null,
   "id": "aboriginal-pharmaceutical",
   "metadata": {},
   "outputs": [],
   "source": [
    "def extract_bounds(ineqs, all_vars, last_index):\n",
    "    dim = len(all_vars)\n",
    "    bounds = {}\n",
    "    curr_index = dim - 1\n",
    "\n",
    "    while curr_index > last_index:\n",
    "        curr_var = all_vars[curr_index]\n",
    "        bounds[curr_var] = simplify_bounds(ineqs, curr_var)\n",
    "        ineqs = fourier_motzkin_eliminate_var(ineqs, curr_var, all_vars)\n",
    "        curr_index -= 1\n",
    "\n",
    "    last_var = all_vars[last_index]\n",
    "    bounds[last_var] = simplify_bounds(ineqs, last_var)\n",
    "    return bounds"
   ]
  },
  {
   "cell_type": "code",
   "execution_count": null,
   "id": "impressed-right",
   "metadata": {},
   "outputs": [],
   "source": [
    "extract_bounds(ineqs, (i,j,k), 1)"
   ]
  },
  {
   "cell_type": "code",
   "execution_count": null,
   "id": "looking-litigation",
   "metadata": {},
   "outputs": [],
   "source": [
    "def generate_bounds(ineqs, all_vars, last_target_index=0):\n",
    "    vars_bounds = extract_bounds(ineqs, all_vars, last_target_index)\n",
    "    final_bounds = {}\n",
    "    for var, bounds in vars_bounds.items():\n",
    "        lowers, uppers = bounds\n",
    "        ceiled_lowers = map(lambda l: sp.ceiling(l)\n",
    "                            if isinstance(l, sp.core.mul.Mul) and any(map(lambda l: l.is_rational and not l.is_integer, l.as_two_terms())) else l, lowers)\n",
    "        floored_uppers = map(lambda l: sp.floor(l)\n",
    "                             if isinstance(l, sp.core.mul.Mul) and any(map(lambda l: l.is_rational and not l.is_integer, l.as_two_terms())) else l, uppers)\n",
    "        final_bounds[var] = (\n",
    "            sp.Max(*ceiled_lowers),\n",
    "            sp.Min(*floored_uppers)\n",
    "        )\n",
    "    return final_bounds"
   ]
  },
  {
   "cell_type": "code",
   "execution_count": null,
   "id": "contrary-continent",
   "metadata": {},
   "outputs": [],
   "source": [
    "bounds = generate_bounds(ineqs, (i,j,k))\n",
    "bounds"
   ]
  },
  {
   "cell_type": "code",
   "execution_count": null,
   "id": "light-straight",
   "metadata": {},
   "outputs": [],
   "source": [
    "\"int jstart = \" + sp.printing.ccode(bounds[j][0], standard=\"C99\")"
   ]
  },
  {
   "cell_type": "code",
   "execution_count": null,
   "id": "micro-merchant",
   "metadata": {},
   "outputs": [],
   "source": [
    "\"int jend = \" + sp.printing.ccode(bounds[j][1], standard=\"C99\")"
   ]
  },
  {
   "cell_type": "code",
   "execution_count": null,
   "id": "crucial-parcel",
   "metadata": {},
   "outputs": [],
   "source": [
    "def reindex(T_inv: np.array, x: sp.Matrix, ls: sp.Matrix, us: sp.Matrix):\n",
    "    system = T_inv * x\n",
    "    ineqs = []\n",
    "    for i, t in enumerate(system):\n",
    "        ineqs.append(t >= ls[i])\n",
    "        ineqs.append(t <= us[i])\n",
    "    all_vars = tuple(xx for xx in x)\n",
    "    return generate_bounds(ineqs, all_vars)"
   ]
  },
  {
   "cell_type": "code",
   "execution_count": null,
   "id": "broadband-mexico",
   "metadata": {},
   "outputs": [],
   "source": [
    "def invert_integer_matrix(mat: np.ndarray):\n",
    "    return np.linalg.inv(mat).round().astype(np.int)"
   ]
  },
  {
   "cell_type": "code",
   "execution_count": null,
   "id": "governmental-geography",
   "metadata": {},
   "outputs": [],
   "source": [
    "# Example 1\n",
    "reindex(invert_integer_matrix([\n",
    "    [1, 1],\n",
    "    [0, 1]\n",
    "]), sp.Matrix([[i], [j]]), sp.Matrix([[1], [1]]), sp.Matrix([[n], [m]]))"
   ]
  },
  {
   "cell_type": "code",
   "execution_count": null,
   "id": "southwest-envelope",
   "metadata": {},
   "outputs": [],
   "source": [
    "# Example 1a\n",
    "reindex(invert_integer_matrix([\n",
    "    [1, 1],\n",
    "    [1, 0]\n",
    "]), sp.Matrix([[i], [j]]), sp.Matrix([[1], [1]]), sp.Matrix([[n], [m]]))"
   ]
  },
  {
   "cell_type": "code",
   "execution_count": null,
   "id": "fuzzy-investigation",
   "metadata": {},
   "outputs": [],
   "source": [
    "# Example 2\n",
    "reindex(invert_integer_matrix([\n",
    "    [2, 1],\n",
    "    [1, 0]\n",
    "]).astype(np.int), sp.Matrix([[i], [j]]), sp.Matrix([[1], [1]]), sp.Matrix([[n], [m]]))"
   ]
  },
  {
   "cell_type": "code",
   "execution_count": null,
   "id": "right-incidence",
   "metadata": {},
   "outputs": [],
   "source": [
    "# Example 3\n",
    "reindex(invert_integer_matrix([\n",
    "    [3, 2],\n",
    "    [1, 1]\n",
    "]).round().astype(np.int), sp.Matrix([[i], [j]]), sp.Matrix([[1], [1]]), sp.Matrix([[n], [m]]))"
   ]
  },
  {
   "cell_type": "code",
   "execution_count": null,
   "id": "structured-minute",
   "metadata": {},
   "outputs": [],
   "source": [
    "# Example 4\n",
    "reindex(invert_integer_matrix([\n",
    "    [1, 1, 1],\n",
    "    [0, 1, 0],\n",
    "    [0, 0, 1]\n",
    "]).round().astype(np.int), sp.Matrix([[i], [j], [k]]), sp.Matrix([[1], [1], [1]]), sp.Matrix([[n], [m], [l]]))"
   ]
  },
  {
   "cell_type": "code",
   "execution_count": null,
   "id": "utility-sapphire",
   "metadata": {},
   "outputs": [],
   "source": [
    "# Example 5\n",
    "reindex(invert_integer_matrix([\n",
    "    [2, 1, 1],\n",
    "    [1, 0, 0],\n",
    "    [0, 0, 1]\n",
    "]).round().astype(np.int), sp.Matrix([[i], [j], [k]]), sp.Matrix([[1], [1], [1]]), sp.Matrix([[n], [m], [l]]))"
   ]
  },
  {
   "cell_type": "code",
   "execution_count": null,
   "id": "handy-motorcycle",
   "metadata": {},
   "outputs": [],
   "source": [
    "# Example 6\n",
    "reindex(invert_integer_matrix([\n",
    "    [2, 1, 1],\n",
    "    [1, 1, 0],\n",
    "    [0, 0, 1]\n",
    "]).round().astype(np.int), sp.Matrix([[i], [j], [k]]), sp.Matrix([[1], [1], [1]]), sp.Matrix([[n], [m], [l]]))"
   ]
  },
  {
   "cell_type": "code",
   "execution_count": null,
   "id": "flying-department",
   "metadata": {},
   "outputs": [],
   "source": [
    "T = invert_integer_matrix([\n",
    "    [2, 1, 1],\n",
    "    [1, 1, 0],\n",
    "    [0, 0, 1]\n",
    "]).round().astype(np.int)\n",
    "idxs = sp.Matrix([[i], [j], [k]])\n",
    "ls = sp.Matrix([[1], [1], [1]])\n",
    "us = sp.Matrix([[n], [m], [l]])"
   ]
  },
  {
   "cell_type": "code",
   "execution_count": null,
   "id": "suitable-behavior",
   "metadata": {},
   "outputs": [],
   "source": [
    "%timeit reindex(T, idxs, ls, us)"
   ]
  }
 ],
 "metadata": {
  "kernelspec": {
   "display_name": "Python 3",
   "language": "python",
   "name": "python3"
  },
  "language_info": {
   "codemirror_mode": {
    "name": "ipython",
    "version": 3
   },
   "file_extension": ".py",
   "mimetype": "text/x-python",
   "name": "python",
   "nbconvert_exporter": "python",
   "pygments_lexer": "ipython3",
   "version": "3.9.1"
  }
 },
 "nbformat": 4,
 "nbformat_minor": 5
}
