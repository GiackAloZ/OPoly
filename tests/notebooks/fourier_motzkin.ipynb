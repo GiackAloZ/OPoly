{
 "cells": [
  {
   "cell_type": "code",
   "execution_count": null,
   "id": "married-volunteer",
   "metadata": {},
   "outputs": [],
   "source": [
    "import numpy as np\n",
    "import sympy as sp"
   ]
  },
  {
   "cell_type": "code",
   "execution_count": null,
   "id": "comprehensive-spectacular",
   "metadata": {},
   "outputs": [],
   "source": [
    "from sympy.solvers.inequalities import reduce_inequalities\n",
    "\n",
    "def fourier_motzkin_eliminate_var(\n",
    "    inequalites: tuple[sp.core.relational._Inequality],\n",
    "    var: sp.core.symbol.Symbol,\n",
    "    all_vars: tuple[sp.core.symbol.Symbol]\n",
    ") -> tuple[sp.core.relational._Inequality]:\n",
    "    less_exprs = []\n",
    "    great_exprs = []\n",
    "    zero_ineqs = []\n",
    "    for ineq in inequalites:\n",
    "        if var in ineq.free_symbols:\n",
    "            interval = reduce_inequalities(ineq, var)\n",
    "            for inter in interval.args:\n",
    "                inter = inter.canonical\n",
    "                if not (inter.has(sp.oo) or inter.has(-sp.oo)):\n",
    "                    if isinstance(inter, sp.core.relational.GreaterThan):\n",
    "                        great_exprs.append(inter.rhs)\n",
    "                    else:\n",
    "                        less_exprs.append(inter.rhs)\n",
    "        else:\n",
    "            zero_ineqs.append(ineq)\n",
    "    new_ineqs = []\n",
    "    for ge in great_exprs:\n",
    "        for le in less_exprs:\n",
    "            new_in = ge <= le\n",
    "            diff = ge - le\n",
    "            if any(diff.has(v) for v in all_vars):\n",
    "                new_ineqs.append(ge <= le)\n",
    "    return tuple(zero_ineqs + new_ineqs)"
   ]
  },
  {
   "cell_type": "code",
   "execution_count": null,
   "id": "built-maple",
   "metadata": {},
   "outputs": [],
   "source": [
    "l, m, n, i, j, k = sp.symbols(\"l m n i j k\", integers=True)"
   ]
  },
  {
   "cell_type": "code",
   "execution_count": null,
   "id": "negative-compromise",
   "metadata": {},
   "outputs": [],
   "source": [
    "ineqs = (\n",
    "    0 <= j,\n",
    "    j <= n-1,\n",
    "    1 <= i - 2*j - k,\n",
    "    i - 2*j - k <= m - 2,\n",
    "    1 <= k,\n",
    "    k <= l-2\n",
    ")"
   ]
  },
  {
   "cell_type": "code",
   "execution_count": null,
   "id": "restricted-luxury",
   "metadata": {},
   "outputs": [],
   "source": [
    "fourier_motzkin_eliminate_var(ineqs, k, (i,j,k))"
   ]
  },
  {
   "cell_type": "code",
   "execution_count": null,
   "id": "senior-edwards",
   "metadata": {},
   "outputs": [],
   "source": [
    "def simplify_bounds(ineqs, var):\n",
    "    lower_bounds = []\n",
    "    upper_bounds = []\n",
    "    for ineq in ineqs:\n",
    "        if var in ineq.free_symbols:\n",
    "            inters = reduce_inequalities(ineq, var)\n",
    "            for inter in inters.args:\n",
    "                inter = inter.canonical\n",
    "                if not (inter.has(sp.oo) or inter.has(-sp.oo)) and inter.has(var):\n",
    "                    bound = sp.factor(inter.rhs)\n",
    "                    if isinstance(inter, sp.core.relational.GreaterThan):\n",
    "                        lower_bounds.append(bound)\n",
    "                    else:\n",
    "                        upper_bounds.append(bound)\n",
    "    return (lower_bounds, upper_bounds)"
   ]
  },
  {
   "cell_type": "code",
   "execution_count": null,
   "id": "super-calculation",
   "metadata": {},
   "outputs": [],
   "source": [
    "simplify_bounds(ineqs, k)"
   ]
  },
  {
   "cell_type": "code",
   "execution_count": null,
   "id": "honey-paintball",
   "metadata": {},
   "outputs": [],
   "source": [
    "def extract_bounds(ineqs, all_vars, last_index):\n",
    "    dim = len(all_vars)\n",
    "    bounds = {}\n",
    "    curr_index = dim - 1\n",
    "\n",
    "    while curr_index > last_index:\n",
    "        curr_var = all_vars[curr_index]\n",
    "        bounds[curr_var] = simplify_bounds(ineqs, curr_var)\n",
    "        ineqs = fourier_motzkin_eliminate_var(ineqs, curr_var, all_vars)\n",
    "        curr_index -= 1\n",
    "\n",
    "    last_var = all_vars[last_index]\n",
    "    bounds[last_var] = simplify_bounds(ineqs, last_var)\n",
    "    return bounds"
   ]
  },
  {
   "cell_type": "code",
   "execution_count": null,
   "id": "experienced-windsor",
   "metadata": {},
   "outputs": [],
   "source": [
    "extract_bounds(ineqs, (i,j,k), 1)"
   ]
  },
  {
   "cell_type": "code",
   "execution_count": null,
   "id": "powerful-generic",
   "metadata": {},
   "outputs": [],
   "source": [
    "def generate_bounds(ineqs, all_vars, last_target_index=1):\n",
    "    vars_bounds = extract_bounds(ineqs, all_vars, last_target_index)\n",
    "    final_bounds = {}\n",
    "    for var, bounds in vars_bounds.items():\n",
    "        lowers, uppers = bounds\n",
    "        ceiled_lowers = map(lambda l: sp.ceiling(l)\n",
    "                            if isinstance(l, sp.core.mul.Mul) and any(map(lambda l: l.is_rational and not l.is_integer, l.as_two_terms())) else l, lowers)\n",
    "        floored_uppers = map(lambda l: sp.floor(l)\n",
    "                             if isinstance(l, sp.core.mul.Mul) and any(map(lambda l: l.is_rational and not l.is_integer, l.as_two_terms())) else l, uppers)\n",
    "        final_bounds[var] = (\n",
    "            sp.Max(*ceiled_lowers),\n",
    "            sp.Min(*floored_uppers)\n",
    "        )\n",
    "    return final_bounds"
   ]
  },
  {
   "cell_type": "code",
   "execution_count": null,
   "id": "sapphire-meeting",
   "metadata": {},
   "outputs": [],
   "source": [
    "bounds = generate_bounds(ineqs, (i,j,k))\n",
    "bounds"
   ]
  },
  {
   "cell_type": "code",
   "execution_count": null,
   "id": "centered-nowhere",
   "metadata": {},
   "outputs": [],
   "source": [
    "\"int jstart = \" + sp.printing.ccode(bounds[j][0], standard=\"C99\")"
   ]
  },
  {
   "cell_type": "code",
   "execution_count": null,
   "id": "prerequisite-cuisine",
   "metadata": {},
   "outputs": [],
   "source": [
    "\"int jend = \" + sp.printing.ccode(bounds[j][1], standard=\"C99\")"
   ]
  }
 ],
 "metadata": {
  "kernelspec": {
   "display_name": "Python 3",
   "language": "python",
   "name": "python3"
  },
  "language_info": {
   "codemirror_mode": {
    "name": "ipython",
    "version": 3
   },
   "file_extension": ".py",
   "mimetype": "text/x-python",
   "name": "python",
   "nbconvert_exporter": "python",
   "pygments_lexer": "ipython3",
   "version": "3.9.1"
  }
 },
 "nbformat": 4,
 "nbformat_minor": 5
}
