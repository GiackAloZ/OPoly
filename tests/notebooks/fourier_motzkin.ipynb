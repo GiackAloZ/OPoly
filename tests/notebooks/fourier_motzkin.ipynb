{
 "cells": [
  {
   "cell_type": "code",
   "execution_count": null,
   "id": "substantial-buying",
   "metadata": {},
   "outputs": [],
   "source": [
    "import numpy as np\n",
    "import sympy as sp"
   ]
  },
  {
   "cell_type": "code",
   "execution_count": null,
   "id": "developing-tuning",
   "metadata": {},
   "outputs": [],
   "source": [
    "from sympy.solvers.inequalities import reduce_inequalities\n",
    "\n",
    "def fourier_motzkin_eliminate_var(\n",
    "    inequalites: tuple[sp.core.relational._Inequality],\n",
    "    var: sp.core.symbol.Symbol\n",
    ") -> tuple[sp.core.relational._Inequality]:\n",
    "    less_exprs = []\n",
    "    great_exprs = []\n",
    "    for ineq in inequalites:\n",
    "        if var in ineq.free_symbols:\n",
    "            interval = sp.reduce_inequalities([ineq], var)\n",
    "            for inter in interval.args:\n",
    "                print(inter)\n",
    "                if not (inter.has(sp.oo) or inter.has(-sp.oo)):\n",
    "                    if isinstance(inter, sp.core.relational.GreaterThan):\n",
    "                        great_exprs.append(inter.rhs)\n",
    "                    else:\n",
    "                        less_exprs.append(inter.rhs)\n",
    "    print(less_exprs)\n",
    "    return None"
   ]
  },
  {
   "cell_type": "code",
   "execution_count": null,
   "id": "smart-century",
   "metadata": {},
   "outputs": [],
   "source": [
    "l, m, n, i, j, k = sp.symbols(\"l m n i j k\", integers=True)"
   ]
  },
  {
   "cell_type": "code",
   "execution_count": null,
   "id": "dental-token",
   "metadata": {},
   "outputs": [],
   "source": [
    "ineqs = [\n",
    "    0 <= j,\n",
    "    j <= n-1,\n",
    "    1 <= i - 2*j - k,\n",
    "    i - 2*j - k <= m -2\n",
    "]"
   ]
  },
  {
   "cell_type": "code",
   "execution_count": null,
   "id": "noble-welsh",
   "metadata": {},
   "outputs": [],
   "source": [
    "fourier_motzkin_eliminate_var(ineqs, k)"
   ]
  }
 ],
 "metadata": {
  "kernelspec": {
   "display_name": "Python 3",
   "language": "python",
   "name": "python3"
  },
  "language_info": {
   "codemirror_mode": {
    "name": "ipython",
    "version": 3
   },
   "file_extension": ".py",
   "mimetype": "text/x-python",
   "name": "python",
   "nbconvert_exporter": "python",
   "pygments_lexer": "ipython3",
   "version": "3.9.1"
  }
 },
 "nbformat": 4,
 "nbformat_minor": 5
}
